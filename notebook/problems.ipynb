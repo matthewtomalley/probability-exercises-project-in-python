{
 "cells": [
  {
   "cell_type": "markdown",
   "id": "a41f3622",
   "metadata": {},
   "source": [
    "# Probability exercises"
   ]
  },
  {
   "cell_type": "markdown",
   "id": "a6bdbd89",
   "metadata": {},
   "source": [
    "## Exercise 1 \n",
    "\n",
    "Two dices are thrown once and the total score is observed. Use a simulation to find the estimated probability that the total score is even or greater than 7.  A simulation is a repetition of the same experiment multiple times to observe its behavior:\n",
    "\n",
    "- Run the experiment 1000 times (roll 2 dice 1000 times, and sum the number of both dices).\n",
    "- Keep track of the number of times that the sum was either greater than 7 or an even number.\n",
    "- Divide the number from step 2 by the number of iterations (1000)."
   ]
  },
  {
   "cell_type": "code",
   "execution_count": 25,
   "id": "8939d892",
   "metadata": {},
   "outputs": [
    {
     "data": {
      "text/plain": [
       "0.663"
      ]
     },
     "execution_count": 25,
     "metadata": {},
     "output_type": "execute_result"
    }
   ],
   "source": [
    "import random \n",
    "\n",
    "counter = 0\n",
    "\n",
    "for x in range(1000):\n",
    "\n",
    "    di1 = random.randint(1, 6)\n",
    "    di2 = random.randint(1, 6)\n",
    "\n",
    "    if (di1 + di2 > 7) or ((di1 + di2) % 2 == 0):\n",
    "        counter += 1\n",
    "\n",
    "counter/1000\n",
    "\n",
    "\n",
    "\n",
    "\n",
    "\n"
   ]
  },
  {
   "cell_type": "code",
   "execution_count": 26,
   "id": "8db5cc3f",
   "metadata": {},
   "outputs": [
    {
     "name": "stdout",
     "output_type": "stream",
     "text": [
      "0.662\n"
     ]
    }
   ],
   "source": [
    "prob = 0\n",
    "\n",
    "for _ in range(0, 1000):\n",
    "    di1 = random.randint(1, 6)\n",
    "    di2 = random.randint(1,6)\n",
    "    total = di1 + di2\n",
    "    if (total > 7) or (total % 2 == 0):\n",
    "        prob += 1\n",
    "\n",
    "print(prob/1000)"
   ]
  },
  {
   "cell_type": "markdown",
   "id": "55732bca",
   "metadata": {},
   "source": [
    "## Exercise 2\n",
    "\n",
    "A box contains 10 white balls, 20 red balls and 30 green balls. If we take 5 balls from the box with replacement (we take the ball, observe what color it is and put it back into the box). We want to know the probability of:\n",
    "\n",
    "1. Take 3 white and 2 red.\n",
    "2. Take all of the same color.\n",
    "\n",
    "Run the experiment 1000 times and calculate the above probabilities."
   ]
  },
  {
   "cell_type": "code",
   "execution_count": 32,
   "id": "23244d20",
   "metadata": {},
   "outputs": [
    {
     "name": "stdout",
     "output_type": "stream",
     "text": [
      "{0: 'White', 1: 'White', 2: 'White', 3: 'White', 4: 'White', 5: 'White', 6: 'White', 7: 'White', 8: 'White', 9: 'White', 10: 'Red', 11: 'Red', 12: 'Red', 13: 'Red', 14: 'Red', 15: 'Red', 16: 'Red', 17: 'Red', 18: 'Red', 19: 'Red', 20: 'Red', 21: 'Red', 22: 'Red', 23: 'Red', 24: 'Red', 25: 'Red', 26: 'Red', 27: 'Red', 28: 'Red', 29: 'Red', 30: 'Green', 31: 'Green', 32: 'Green', 33: 'Green', 34: 'Green', 35: 'Green', 36: 'Green', 37: 'Green', 38: 'Green', 39: 'Green', 40: 'Green', 41: 'Green', 42: 'Green', 43: 'Green', 44: 'Green', 45: 'Green', 46: 'Green', 47: 'Green', 48: 'Green', 49: 'Green', 50: 'Green', 51: 'Green', 52: 'Green', 53: 'Green', 54: 'Green', 55: 'Green', 56: 'Green', 57: 'Green', 58: 'Green', 59: 'Green'}\n",
      "Probability of 3 white and 2 red: 0.003\n",
      "Probability of all the same color: 0.032\n"
     ]
    }
   ],
   "source": [
    "ball_box = {}\n",
    "\n",
    "# Create the box of balls\n",
    "for i in range(60):\n",
    "    if i < 10:\n",
    "        ball_box[i] = \"White\"\n",
    "    elif (i > 9) and (i < 30):\n",
    "        ball_box[i] = \"Red\"\n",
    "    else:\n",
    "        ball_box[i] = \"Green\"\n",
    "\n",
    "print(ball_box)\n",
    "\n",
    "counter1 = 0   \n",
    "counter2 = 0      \n",
    "\n",
    "for i in range(1000):\n",
    "\n",
    "    group = []\n",
    "    \n",
    "    for x in range(5):\n",
    "        pull = random.randint(0, 59)\n",
    "        group.append(ball_box[pull])\n",
    "\n",
    "    if (group.count('White') == 3) and (group.count('Red') == 2):\n",
    "        counter1 += 1\n",
    "\n",
    "    if (group.count('White') == 5) or (group.count('Red') == 5) or (group.count('Green') == 5):\n",
    "        counter2 += 1\n",
    "\n",
    "print(f\"Probability of 3 white and 2 red: {counter1/1000}\")\n",
    "print(f\"Probability of all the same color: {counter2/1000}\")\n",
    "\n",
    "\n",
    "\n"
   ]
  },
  {
   "cell_type": "code",
   "execution_count": null,
   "id": "1f355a58",
   "metadata": {},
   "outputs": [
    {
     "name": "stdout",
     "output_type": "stream",
     "text": [
      "0.003\n",
      "0.038\n"
     ]
    }
   ],
   "source": [
    "ball_box = {}\n",
    "\n",
    "# Create the box of balls\n",
    "for i in range(60):\n",
    "    if i < 10:\n",
    "        ball_box[i] = \"White\"\n",
    "    elif (i > 9) and (i < 30):\n",
    "        ball_box[i] = \"Red\"\n",
    "    else:\n",
    "        ball_box[i] = \"Green\"\n",
    "\n",
    "#print(ball_box)\n",
    "\n",
    "prob1 = 0\n",
    "prob2 = 0\n",
    "\n",
    "for i in range(0, 1000):\n",
    "\n",
    "    colors = []\n",
    "    white_counter = 0\n",
    "    red_counter = 0\n",
    "    same_counter = 0\n",
    "    \n",
    "    for n in range(0, 5):\n",
    "        x = random.randint(0, 59)\n",
    "        colors.append(ball_box[x])\n",
    "\n",
    "    for y in range(0, 5):\n",
    "        if colors[y] == 'White':\n",
    "            white_counter += 1\n",
    "        if colors[y] == 'Red':\n",
    "            red_counter += 1\n",
    "\n",
    "        # Check each ball against the first ball--if same_counter reaches 5, they are all the same.\n",
    "        if colors[y] == colors[0]:\n",
    "            same_counter += 1\n",
    "\n",
    "    if (white_counter == 3) and (red_counter == 2):\n",
    "        prob1 +=1\n",
    "    # If same_counter is 5, all the balls were the same color, and one is added to the event counter prob2.\n",
    "    if same_counter == 5:\n",
    "        prob2 += 1\n",
    "\n",
    "print(prob1/1000)\n",
    "print(prob2/1000)"
   ]
  }
 ],
 "metadata": {
  "kernelspec": {
   "display_name": "Python 3",
   "language": "python",
   "name": "python3"
  },
  "language_info": {
   "codemirror_mode": {
    "name": "ipython",
    "version": 3
   },
   "file_extension": ".py",
   "mimetype": "text/x-python",
   "name": "python",
   "nbconvert_exporter": "python",
   "pygments_lexer": "ipython3",
   "version": "3.11.4"
  }
 },
 "nbformat": 4,
 "nbformat_minor": 5
}
